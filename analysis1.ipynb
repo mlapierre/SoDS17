{
 "cells": [
  {
   "cell_type": "code",
   "execution_count": 1,
   "metadata": {
    "collapsed": true
   },
   "outputs": [],
   "source": [
    "import os\n",
    "from sklearn.feature_extraction.text import TfidfVectorizer\n",
    "from sklearn.svm import LinearSVC\n",
    "from sklearn.pipeline import Pipeline\n",
    "from sklearn.model_selection import GridSearchCV\n",
    "from sklearn.datasets import load_files\n",
    "from sklearn.model_selection import train_test_split\n",
    "from sklearn import metrics"
   ]
  },
  {
   "cell_type": "code",
   "execution_count": 2,
   "metadata": {},
   "outputs": [
    {
     "name": "stdout",
     "output_type": "stream",
     "text": [
      "n_samples: 1461\n",
      "[0 0 0 ..., 1 1 1]\n",
      "['hits', 'misses']\n"
     ]
    }
   ],
   "source": [
    "data_path = os.path.join(os.getcwd(), 'data', 'to_analyse')\n",
    "dataset = load_files(data_path, shuffle=False)\n",
    "print(\"n_samples: %d\" % len(dataset.data))\n",
    "print(dataset.target)\n",
    "print(dataset.target_names)"
   ]
  },
  {
   "cell_type": "code",
   "execution_count": 3,
   "metadata": {},
   "outputs": [
    {
     "data": {
      "text/plain": [
       "b\"---\\nTitle: 'Healthy\\xe2\\x80\\x99 fast food chains not living up to their claims\\nCreated:28/10/2016 6:25 AM\\nAuthor:Lyndal Wellard, PhD Student in Nutrition and Dietetics and Senior Nutrition Project Officer at Cancer Council NSW, University of Sydney\\nTags:from Inoreader, news\\nSource:http://theconversation.com/healthy-fast-food-chains-not-living-up-to-their-claims-67461\\n---\\nSo-called 'healthier' fast food chains are misleading consumers with claims their foods are lower in salt, sugar and fat than their tra\""
      ]
     },
     "execution_count": 3,
     "metadata": {},
     "output_type": "execute_result"
    }
   ],
   "source": [
    "dataset.data[0][:500]"
   ]
  },
  {
   "cell_type": "code",
   "execution_count": 4,
   "metadata": {},
   "outputs": [],
   "source": [
    "# Strip the metadata from the start of the files\n",
    "for idx, data in enumerate(dataset.data):\n",
    "    _, meta, content = data.decode(\"utf-8\").split('---\\n', maxsplit=2)\n",
    "    dataset.data[idx] = content"
   ]
  },
  {
   "cell_type": "code",
   "execution_count": 5,
   "metadata": {},
   "outputs": [
    {
     "data": {
      "text/plain": [
       "\"So-called 'healthier' fast food chains are misleading consumers with claims their foods are lower in\""
      ]
     },
     "execution_count": 5,
     "metadata": {},
     "output_type": "execute_result"
    }
   ],
   "source": [
    "dataset.data[0][:100]"
   ]
  },
  {
   "cell_type": "code",
   "execution_count": 6,
   "metadata": {
    "collapsed": true
   },
   "outputs": [],
   "source": [
    "# split the dataset in training and test set using a specific seed for reproducibility\n",
    "docs_train, docs_test, y_train, y_test = train_test_split(\n",
    "    dataset.data, dataset.target, test_size=0.25, random_state=42)"
   ]
  },
  {
   "cell_type": "code",
   "execution_count": 7,
   "metadata": {},
   "outputs": [],
   "source": [
    "# Vectorise to extract features and filter out tokens that are too rare or too frequent\n",
    "pipeline = Pipeline([\n",
    "    ('vect', TfidfVectorizer(min_df=3, max_df=0.95)),\n",
    "    ('clf', LinearSVC(C=1000)),\n",
    "])"
   ]
  },
  {
   "cell_type": "code",
   "execution_count": 8,
   "metadata": {},
   "outputs": [
    {
     "data": {
      "text/plain": [
       "GridSearchCV(cv=None, error_score='raise',\n",
       "       estimator=Pipeline(steps=[('vect', TfidfVectorizer(analyzer='word', binary=False, decode_error='strict',\n",
       "        dtype=<class 'numpy.int64'>, encoding='utf-8', input='content',\n",
       "        lowercase=True, max_df=0.95, max_features=None, min_df=3,\n",
       "        ngram_range=(1, 1), norm='l2', preprocessor=None, smooth_idf=True,\n",
       " ...ax_iter=1000,\n",
       "     multi_class='ovr', penalty='l2', random_state=None, tol=0.0001,\n",
       "     verbose=0))]),\n",
       "       fit_params={}, iid=True, n_jobs=-1,\n",
       "       param_grid={'vect__ngram_range': [(1, 1), (1, 2), (1, 3)]},\n",
       "       pre_dispatch='2*n_jobs', refit=True, return_train_score=True,\n",
       "       scoring=None, verbose=0)"
      ]
     },
     "execution_count": 8,
     "metadata": {},
     "output_type": "execute_result"
    }
   ],
   "source": [
    "# Use grid search to find out whether unigrams, bigrams, or tri-grams are more useful.\n",
    "# Fit the pipeline on the training set using grid search for the parameters\n",
    "parameters = {\n",
    "    'vect__ngram_range': [(1, 1), (1, 2), (1, 3)],\n",
    "}\n",
    "grid_search = GridSearchCV(pipeline, parameters, n_jobs=-1)\n",
    "grid_search.fit(docs_train, y_train)"
   ]
  },
  {
   "cell_type": "code",
   "execution_count": 9,
   "metadata": {},
   "outputs": [
    {
     "name": "stdout",
     "output_type": "stream",
     "text": [
      "0 params - {'vect__ngram_range': (1, 1)}; mean - 0.76; std - 0.03\n",
      "1 params - {'vect__ngram_range': (1, 2)}; mean - 0.78; std - 0.01\n",
      "2 params - {'vect__ngram_range': (1, 3)}; mean - 0.79; std - 0.01\n"
     ]
    }
   ],
   "source": [
    "# Print the mean and std for each candidate along with the parameter\n",
    "# settings for all the candidates explored by grid search.\n",
    "n_candidates = len(grid_search.cv_results_['params'])\n",
    "for i in range(n_candidates):\n",
    "    print(i, 'params - %s; mean - %0.2f; std - %0.2f'\n",
    "             % (grid_search.cv_results_['params'][i],\n",
    "                grid_search.cv_results_['mean_test_score'][i],\n",
    "                grid_search.cv_results_['std_test_score'][i]))"
   ]
  },
  {
   "cell_type": "code",
   "execution_count": 10,
   "metadata": {
    "collapsed": true
   },
   "outputs": [],
   "source": [
    "# Predict the outcome on the testing set \n",
    "y_predicted = grid_search.predict(docs_test)"
   ]
  },
  {
   "cell_type": "code",
   "execution_count": 11,
   "metadata": {},
   "outputs": [
    {
     "name": "stdout",
     "output_type": "stream",
     "text": [
      "             precision    recall  f1-score   support\n",
      "\n",
      "       hits       0.80      0.79      0.79       163\n",
      "     misses       0.83      0.84      0.83       203\n",
      "\n",
      "avg / total       0.81      0.81      0.81       366\n",
      "\n"
     ]
    }
   ],
   "source": [
    "# How did the classifier perform?\n",
    "print(metrics.classification_report(y_test, y_predicted,\n",
    "                                    target_names=dataset.target_names))"
   ]
  },
  {
   "cell_type": "code",
   "execution_count": 12,
   "metadata": {},
   "outputs": [
    {
     "name": "stdout",
     "output_type": "stream",
     "text": [
      "[[128  35]\n",
      " [ 33 170]]\n"
     ]
    }
   ],
   "source": [
    "cm = metrics.confusion_matrix(y_test, y_predicted)\n",
    "print(cm)"
   ]
  },
  {
   "cell_type": "code",
   "execution_count": 13,
   "metadata": {},
   "outputs": [],
   "source": [
    "import matplotlib.pyplot as plt\n",
    "import scikitplot.plotters as skplt"
   ]
  },
  {
   "cell_type": "code",
   "execution_count": 14,
   "metadata": {},
   "outputs": [
    {
     "data": {
      "image/png": "[encoded data removed]",
      "text/plain": [
       "<matplotlib.figure.Figure at 0x21d9f21ff98>"
      ]
     },
     "metadata": {},
     "output_type": "display_data"
    }
   ],
   "source": [
    "skplt.plot_learning_curve(grid_search, docs_train, y_train)\n",
    "plt.show()"
   ]
  },
  {
   "cell_type": "code",
   "execution_count": 15,
   "metadata": {},
   "outputs": [
    {
     "name": "stderr",
     "output_type": "stream",
     "text": [
      "d:\\tools\\anaconda3\\envs\\rss\\lib\\site-packages\\urllib3\\connectionpool.py:852: InsecureRequestWarning: Unverified HTTPS request is being made. Adding certificate verification is strongly advised. See: https://urllib3.readthedocs.io/en/latest/advanced-usage.html#ssl-warnings\n",
      "  InsecureRequestWarning)\n"
     ]
    },
    {
     "data": {
      "text/plain": [
       "'This is known as the ‘black-box’ problem, and it is becoming increasingly important as neural networ'"
      ]
     },
     "execution_count": 15,
     "metadata": {},
     "output_type": "execute_result"
    }
   ],
   "source": [
    "# Test some specific (new) examples\n",
    "from newspaper import Article\n",
    "import requests\n",
    "url = 'https://deepmind.com/blog/cognitive-psychology/'\n",
    "r = requests.get(url, verify=False) # False only because of local proxy issues.\n",
    "article = Article(url, fetch_images=False)\n",
    "article.download(input_html=r.text)\n",
    "article.parse()\n",
    "hit1 = article.text\n",
    "hit1[:100]"
   ]
  },
  {
   "cell_type": "code",
   "execution_count": 16,
   "metadata": {},
   "outputs": [
    {
     "name": "stderr",
     "output_type": "stream",
     "text": [
      "d:\\tools\\anaconda3\\envs\\rss\\lib\\site-packages\\urllib3\\connectionpool.py:852: InsecureRequestWarning: Unverified HTTPS request is being made. Adding certificate verification is strongly advised. See: https://urllib3.readthedocs.io/en/latest/advanced-usage.html#ssl-warnings\n",
      "  InsecureRequestWarning)\n",
      "d:\\tools\\anaconda3\\envs\\rss\\lib\\site-packages\\urllib3\\connectionpool.py:852: InsecureRequestWarning: Unverified HTTPS request is being made. Adding certificate verification is strongly advised. See: https://urllib3.readthedocs.io/en/latest/advanced-usage.html#ssl-warnings\n",
      "  InsecureRequestWarning)\n",
      "d:\\tools\\anaconda3\\envs\\rss\\lib\\site-packages\\urllib3\\connectionpool.py:852: InsecureRequestWarning: Unverified HTTPS request is being made. Adding certificate verification is strongly advised. See: https://urllib3.readthedocs.io/en/latest/advanced-usage.html#ssl-warnings\n",
      "  InsecureRequestWarning)\n",
      "d:\\tools\\anaconda3\\envs\\rss\\lib\\site-packages\\urllib3\\connectionpool.py:852: InsecureRequestWarning: Unverified HTTPS request is being made. Adding certificate verification is strongly advised. See: https://urllib3.readthedocs.io/en/latest/advanced-usage.html#ssl-warnings\n",
      "  InsecureRequestWarning)\n",
      "d:\\tools\\anaconda3\\envs\\rss\\lib\\site-packages\\urllib3\\connectionpool.py:852: InsecureRequestWarning: Unverified HTTPS request is being made. Adding certificate verification is strongly advised. See: https://urllib3.readthedocs.io/en/latest/advanced-usage.html#ssl-warnings\n",
      "  InsecureRequestWarning)\n"
     ]
    }
   ],
   "source": [
    "from newspaper import Article\n",
    "import requests\n",
    "url = 'https://deepmind.com/blog/cognitive-psychology/'\n",
    "r = requests.get(url, verify=False)\n",
    "article = Article(url, fetch_images=False)\n",
    "article.download(input_html=r.text)\n",
    "article.parse()\n",
    "hit1 = article.text\n",
    "url = 'https://theconversation.com/teaching-machines-to-understand-and-summarize-text-78236'\n",
    "r = requests.get(url, verify=False)\n",
    "article = Article(url, fetch_images=False)\n",
    "article.download(input_html=r.text)\n",
    "hit2 = article.text\n",
    "url = 'https://www.theguardian.com/football/2017/jul/07/chelsea-romelu-lukaku-offer-match-manchester-united'\n",
    "r = requests.get(url, verify=False)\n",
    "article = Article(url, fetch_images=False)\n",
    "article.download(input_html=r.text)\n",
    "article.parse()\n",
    "miss1 = article.text\n",
    "url = 'https://arstechnica.com/business/2017/07/renewables-have-briefly-exceeded-nuclear-for-the-first-time-in-decades/'\n",
    "r = requests.get(url, verify=False)\n",
    "article = Article(url, fetch_images=False)\n",
    "article.download(input_html=r.text)\n",
    "article.parse()\n",
    "miss2 = article.text"
   ]
  },
  {
   "cell_type": "code",
   "execution_count": 17,
   "metadata": {},
   "outputs": [
    {
     "name": "stderr",
     "output_type": "stream",
     "text": [
      "d:\\tools\\anaconda3\\envs\\rss\\lib\\site-packages\\urllib3\\connectionpool.py:852: InsecureRequestWarning: Unverified HTTPS request is being made. Adding certificate verification is strongly advised. See: https://urllib3.readthedocs.io/en/latest/advanced-usage.html#ssl-warnings\n",
      "  InsecureRequestWarning)\n"
     ]
    }
   ],
   "source": [
    "url = 'https://arstechnica.com/tech-policy/2017/09/jury-finds-nintendo-wii-infringes-dallas-inventors-patent-awards-10m/'\n",
    "r = requests.get(url, verify=False)\n",
    "article = Article(url, fetch_images=False)\n",
    "article.download(input_html=r.text)\n",
    "article.parse()\n",
    "miss3 = article.text"
   ]
  },
  {
   "cell_type": "code",
   "execution_count": 18,
   "metadata": {},
   "outputs": [
    {
     "name": "stdout",
     "output_type": "stream",
     "text": [
      "[0 1 1 1 1]\n",
      "'hit1' => hits\n",
      "'hit2' => misses\n",
      "'miss1' => misses\n",
      "'miss2' => misses\n",
      "'miss3' => misses\n"
     ]
    }
   ],
   "source": [
    "docs_new = [hit1, hit2, miss1, miss2, miss3]\n",
    "predicted = grid_search.predict(docs_new)\n",
    "print(predicted)\n",
    "for doc, category in zip(['hit1', 'hit2', 'miss1', 'miss2', 'miss3'], predicted):\n",
    "     print('%r => %s' % (doc, dataset.target_names[category]))"
   ]
  },
  {
   "cell_type": "code",
   "execution_count": 19,
   "metadata": {},
   "outputs": [
    {
     "data": {
      "text/plain": [
       "array([-0.35038703,  0.55853591,  1.06028395,  0.35287145,  0.12730503])"
      ]
     },
     "execution_count": 19,
     "metadata": {},
     "output_type": "execute_result"
    }
   ],
   "source": [
    "grid_search.decision_function(docs_new)"
   ]
  },
  {
   "cell_type": "code",
   "execution_count": 20,
   "metadata": {},
   "outputs": [
    {
     "data": {
      "text/plain": [
       "Pipeline(steps=[('vect', TfidfVectorizer(analyzer='word', binary=False, decode_error='strict',\n",
       "        dtype=<class 'numpy.int64'>, encoding='utf-8', input='content',\n",
       "        lowercase=True, max_df=0.95, max_features=None, min_df=3,\n",
       "        ngram_range=(1, 2), norm='l2', preprocessor=None, smooth_idf=True,\n",
       " ... vocabulary=None)), ('clf', BernoulliNB(alpha=1.0, binarize=0.0, class_prior=None, fit_prior=True))])"
      ]
     },
     "execution_count": 20,
     "metadata": {},
     "output_type": "execute_result"
    }
   ],
   "source": [
    "from sklearn.naive_bayes import BernoulliNB\n",
    "pipeline = Pipeline([\n",
    "    ('vect', TfidfVectorizer(ngram_range=(1, 2), min_df=3, max_df=0.95, stop_words='english')),\n",
    "    ('clf', BernoulliNB()),\n",
    "])\n",
    "pipeline.fit(docs_train, y_train)"
   ]
  },
  {
   "cell_type": "code",
   "execution_count": 21,
   "metadata": {},
   "outputs": [
    {
     "name": "stdout",
     "output_type": "stream",
     "text": [
      "             precision    recall  f1-score   support\n",
      "\n",
      "       hits       0.76      0.63      0.68       163\n",
      "     misses       0.74      0.84      0.78       203\n",
      "\n",
      "avg / total       0.74      0.74      0.74       366\n",
      "\n"
     ]
    }
   ],
   "source": [
    "y_predicted = pipeline.predict(docs_test)\n",
    "print(metrics.classification_report(y_test, y_predicted,\n",
    "                                    target_names=dataset.target_names))"
   ]
  },
  {
   "cell_type": "code",
   "execution_count": 22,
   "metadata": {},
   "outputs": [
    {
     "name": "stdout",
     "output_type": "stream",
     "text": [
      "[[102  61]\n",
      " [ 33 170]]\n"
     ]
    }
   ],
   "source": [
    "cm = metrics.confusion_matrix(y_test, y_predicted)\n",
    "print(cm)"
   ]
  },
  {
   "cell_type": "code",
   "execution_count": 23,
   "metadata": {},
   "outputs": [
    {
     "name": "stdout",
     "output_type": "stream",
     "text": [
      "[1 1 1 1 1]\n",
      "'hit1' => misses\n",
      "'hit2' => misses\n",
      "'miss1' => misses\n",
      "'miss2' => misses\n",
      "'miss3' => misses\n"
     ]
    }
   ],
   "source": [
    "docs_new = [hit1, hit2, miss1, miss2, miss3]\n",
    "predicted = pipeline.predict(docs_new)\n",
    "print(predicted)\n",
    "for doc, category in zip(['hit1', 'hit2', 'miss1', 'miss2', 'miss3'], predicted):\n",
    "     print('%r => %s' % (doc, dataset.target_names[category]))"
   ]
  },
  {
   "cell_type": "code",
   "execution_count": 24,
   "metadata": {},
   "outputs": [
    {
     "data": {
      "text/plain": [
       "array([[  1.11187656e-23,   1.00000000e+00],\n",
       "       [  2.03911738e-42,   1.00000000e+00],\n",
       "       [  1.19717142e-47,   1.00000000e+00],\n",
       "       [  5.84286253e-28,   1.00000000e+00],\n",
       "       [  2.89294801e-36,   1.00000000e+00]])"
      ]
     },
     "execution_count": 24,
     "metadata": {},
     "output_type": "execute_result"
    }
   ],
   "source": [
    "pipeline.predict_proba(docs_new)"
   ]
  }
 ],
 "metadata": {
  "kernelspec": {
   "display_name": "Python 3",
   "language": "python",
   "name": "python3"
  },
  "language_info": {
   "codemirror_mode": {
    "name": "ipython",
    "version": 3
   },
   "file_extension": ".py",
   "mimetype": "text/x-python",
   "name": "python",
   "nbconvert_exporter": "python",
   "pygments_lexer": "ipython3",
   "version": "3.6.1"
  }
 },
 "nbformat": 4,
 "nbformat_minor": 2
}
